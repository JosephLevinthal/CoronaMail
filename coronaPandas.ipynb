{
 "cells": [
  {
   "cell_type": "code",
   "execution_count": 1,
   "metadata": {},
   "outputs": [
    {
     "name": "stdout",
     "output_type": "stream",
     "text": [
      "date= 04-21-20\n"
     ]
    }
   ],
   "source": [
    "from datetime import date\n",
    "today = date.today()\n",
    "\n",
    "d = today.strftime(\"%m-%d-%y\")\n",
    "print(\"date=\", d)"
   ]
  },
  {
   "cell_type": "code",
   "execution_count": 2,
   "metadata": {},
   "outputs": [],
   "source": [
    "cnn_url = \"https://edition.cnn.com/world/live-news/coronavirus-pandemic-{}-intl/index.html\".format(d)\n",
    "#cnn_url = \"https://edition.cnn.com/world/live-news/coronavirus-pandemic-{}-intl\".format(d)"
   ]
  },
  {
   "cell_type": "code",
   "execution_count": 3,
   "metadata": {},
   "outputs": [
    {
     "name": "stdout",
     "output_type": "stream",
     "text": [
      "https://edition.cnn.com/world/live-news/coronavirus-pandemic-04-21-20-intl/index.html\n"
     ]
    }
   ],
   "source": [
    "print(cnn_url)"
   ]
  },
  {
   "cell_type": "code",
   "execution_count": 4,
   "metadata": {},
   "outputs": [],
   "source": [
    "from bs4 import BeautifulSoup\n",
    "import requests"
   ]
  },
  {
   "cell_type": "code",
   "execution_count": 5,
   "metadata": {},
   "outputs": [],
   "source": [
    "html = requests.get(cnn_url).text"
   ]
  },
  {
   "cell_type": "code",
   "execution_count": 6,
   "metadata": {},
   "outputs": [
    {
     "name": "stdout",
     "output_type": "stream",
     "text": [
      "<title data-rh=\"true\">Coronavirus pandemic: Updates from around the world\n",
      " - CNN</title>\n"
     ]
    }
   ],
   "source": [
    "soup = BeautifulSoup(html)\n",
    "print(soup.title)"
   ]
  },
  {
   "cell_type": "code",
   "execution_count": 7,
   "metadata": {},
   "outputs": [],
   "source": [
    "nbc_url = \"https://www.nbcnews.com/health/coronavirus\"\n",
    "cnbc_rss_url = \"https://www.cnbc.com/id/10000108/device/rss/rss/html\""
   ]
  },
  {
   "cell_type": "code",
   "execution_count": 55,
   "metadata": {},
   "outputs": [],
   "source": [
    "urls = [cnn_url, nbc_url, cnbc_rss_url]\n",
    "formats = ['html.parser', 'html.parser', 'xml']\n",
    "tags = ['h2', 'h2', 'title']\n",
    "website = ['CNN', 'NBC', 'CNBC']"
   ]
  },
  {
   "cell_type": "code",
   "execution_count": 56,
   "metadata": {},
   "outputs": [
    {
     "name": "stdout",
     "output_type": "stream",
     "text": [
      "Crawling web page.........https://edition.cnn.com/world/live-news/coronavirus-pandemic-04-21-20-intl/index.html\n",
      "Crawling web page.........https://www.nbcnews.com/health/coronavirus\n",
      "Crawling web page.........https://www.cnbc.com/id/10000108/device/rss/rss/html\n"
     ]
    }
   ],
   "source": [
    "crawl_len = 0\n",
    "for url in urls:\n",
    "    print(\"Crawling web page.........{}\".format(url))\n",
    "    response = requests.get(url)\n",
    "    soup = BeautifulSoup(response.content, formats[crawl_len])\n",
    "    \n",
    "    #for link in soup.find_all(tags[crawl_len]):\n",
    "     #   if(len(link.text.split(\" \")) > 4):\n",
    "      #      print(\"Headline : {}\".format(link.text))\n",
    "    #crawl_len = crawl_len+1"
   ]
  },
  {
   "cell_type": "code",
   "execution_count": 57,
   "metadata": {},
   "outputs": [],
   "source": [
    "crawl_len=0\n",
    "news_dict=[]\n",
    "for url in urls:\n",
    "    response = requests.get(url)\n",
    "    soup = BeautifulSoup(response.content,formats[crawl_len])\n",
    "    \n",
    "    for link in soup.find_all(tags[crawl_len]):\n",
    "        if(len(link.text.split(\" \")) > 4):\n",
    "            \n",
    "            news_dict.append({'website': website[crawl_len], 'url': url, 'headline':link.text})\n",
    "    crawl_len = crawl_len+1"
   ]
  },
  {
   "cell_type": "code",
   "execution_count": 58,
   "metadata": {},
   "outputs": [
    {
     "data": {
      "text/plain": [
       "[{'website': 'CNN',\n",
       "  'url': 'https://edition.cnn.com/world/live-news/coronavirus-pandemic-04-21-20-intl/index.html',\n",
       "  'headline': 'What you need to know'},\n",
       " {'website': 'CNN',\n",
       "  'url': 'https://edition.cnn.com/world/live-news/coronavirus-pandemic-04-21-20-intl/index.html',\n",
       "  'headline': 'US and UK leaders discuss cooperation in combating coronavirus'},\n",
       " {'website': 'CNN',\n",
       "  'url': 'https://edition.cnn.com/world/live-news/coronavirus-pandemic-04-21-20-intl/index.html',\n",
       "  'headline': 'Iran: \"We have not contained the pandemic\"'},\n",
       " {'website': 'CNN',\n",
       "  'url': 'https://edition.cnn.com/world/live-news/coronavirus-pandemic-04-21-20-intl/index.html',\n",
       "  'headline': 'Spanish football team will sell stadium naming rights to fund Covid-19 research'},\n",
       " {'website': 'CNN',\n",
       "  'url': 'https://edition.cnn.com/world/live-news/coronavirus-pandemic-04-21-20-intl/index.html',\n",
       "  'headline': 'Some health workers in Spain are getting hate messages despite broad support for their work'},\n",
       " {'website': 'CNN',\n",
       "  'url': 'https://edition.cnn.com/world/live-news/coronavirus-pandemic-04-21-20-intl/index.html',\n",
       "  'headline': 'UK government \"working hard\" to hit testing goal, but so far has reached only 20% of target'},\n",
       " {'website': 'CNN',\n",
       "  'url': 'https://edition.cnn.com/world/live-news/coronavirus-pandemic-04-21-20-intl/index.html',\n",
       "  'headline': 'Moscow hospital built in 30 days is now admitting its first coronavirus patients'},\n",
       " {'website': 'CNN',\n",
       "  'url': 'https://edition.cnn.com/world/live-news/coronavirus-pandemic-04-21-20-intl/index.html',\n",
       "  'headline': 'A free press in China may have helped prevent coronavirus pandemic, media watchdog says'},\n",
       " {'website': 'CNN',\n",
       "  'url': 'https://edition.cnn.com/world/live-news/coronavirus-pandemic-04-21-20-intl/index.html',\n",
       "  'headline': 'Coronavirus most likely came from animals, not a lab, world health official says'},\n",
       " {'website': 'CNN',\n",
       "  'url': 'https://edition.cnn.com/world/live-news/coronavirus-pandemic-04-21-20-intl/index.html',\n",
       "  'headline': 'Spain cancels its running of the bulls festival'},\n",
       " {'website': 'NBC',\n",
       "  'url': 'https://www.nbcnews.com/health/coronavirus',\n",
       "  'headline': 'Trump says he is suspending immigration to U.S. over coronavirus'},\n",
       " {'website': 'NBC',\n",
       "  'url': 'https://www.nbcnews.com/health/coronavirus',\n",
       "  'headline': 'Live Blog\\xa0/ Latest news on the global pandemic'},\n",
       " {'website': 'NBC',\n",
       "  'url': 'https://www.nbcnews.com/health/coronavirus',\n",
       "  'headline': 'Cyndi Lauper, Troye Sivan, Michelle Visage to appear at Stonewall benefit concert'},\n",
       " {'website': 'NBC',\n",
       "  'url': 'https://www.nbcnews.com/health/coronavirus',\n",
       "  'headline': 'Amazon warehouse workers plan nationwide protest to demand coronavirus protections'},\n",
       " {'website': 'NBC',\n",
       "  'url': 'https://www.nbcnews.com/health/coronavirus',\n",
       "  'headline': 'A 4/20 pot party held by Ganja Pigs in NYC busted for social-distancing violations'},\n",
       " {'website': 'NBC',\n",
       "  'url': 'https://www.nbcnews.com/health/coronavirus',\n",
       "  'headline': 'Two-thirds of voters back vote-by-mail in November 2020'},\n",
       " {'website': 'NBC',\n",
       "  'url': 'https://www.nbcnews.com/health/coronavirus',\n",
       "  'headline': 'Flag on the play: Brady works out at park closed because of coronavirus'},\n",
       " {'website': 'NBC',\n",
       "  'url': 'https://www.nbcnews.com/health/coronavirus',\n",
       "  'headline': 'Arrest warrant out for defiant distancing pastor after incident with bus, protester'},\n",
       " {'website': 'NBC',\n",
       "  'url': 'https://www.nbcnews.com/health/coronavirus',\n",
       "  'headline': 'Negotiations over interim coronavirus aid bill hit snag on state, local government funding'},\n",
       " {'website': 'NBC',\n",
       "  'url': 'https://www.nbcnews.com/health/coronavirus',\n",
       "  'headline': 'Georgia to reopen businesses Friday as U.S. deaths top 40,000'},\n",
       " {'website': 'NBC',\n",
       "  'url': 'https://www.nbcnews.com/health/coronavirus',\n",
       "  'headline': 'Trump says he is suspending immigration over coronavirus, need to protect jobs'},\n",
       " {'website': 'NBC',\n",
       "  'url': 'https://www.nbcnews.com/health/coronavirus',\n",
       "  'headline': 'Brooklyn nursing home ravaged by 55 deaths, most in New York during pandemic'},\n",
       " {'website': 'NBC',\n",
       "  'url': 'https://www.nbcnews.com/health/coronavirus',\n",
       "  'headline': \"Got a call from a contact tracer? Here's what they'll want to know.\"},\n",
       " {'website': 'NBC',\n",
       "  'url': 'https://www.nbcnews.com/health/coronavirus',\n",
       "  'headline': 'Accidental poisonings with cleaning agents increase as coronavirus spreads'},\n",
       " {'website': 'NBC',\n",
       "  'url': 'https://www.nbcnews.com/health/coronavirus',\n",
       "  'headline': 'Ex-astronaut José Hernández has NASA-approved tips to stay sane in isolation'},\n",
       " {'website': 'NBC',\n",
       "  'url': 'https://www.nbcnews.com/health/coronavirus',\n",
       "  'headline': 'Couple married 61 years die a day apart from coronavirus, daughter urges caution'},\n",
       " {'website': 'NBC',\n",
       "  'url': 'https://www.nbcnews.com/health/coronavirus',\n",
       "  'headline': 'Coronavirus can lead to kidney damage. Why?'},\n",
       " {'website': 'NBC',\n",
       "  'url': 'https://www.nbcnews.com/health/coronavirus',\n",
       "  'headline': 'Texas councilman and husband die days apart from COVID-19'},\n",
       " {'website': 'NBC',\n",
       "  'url': 'https://www.nbcnews.com/health/coronavirus',\n",
       "  'headline': '100,000 Disney theme park, hotel workers furloughed'},\n",
       " {'website': 'NBC',\n",
       "  'url': 'https://www.nbcnews.com/health/coronavirus',\n",
       "  'headline': 'U.S. crude oil futures for May plummet to minus $37 — lowest price in history'},\n",
       " {'website': 'NBC',\n",
       "  'url': 'https://www.nbcnews.com/health/coronavirus',\n",
       "  'headline': 'No deal yet: Ocasio-Cortez, House progressives criticize interim coronavirus bill'},\n",
       " {'website': 'NBC',\n",
       "  'url': 'https://www.nbcnews.com/health/coronavirus',\n",
       "  'headline': \"Nurses union sues New York state, claims 'grossly inadequate' coronavirus protections\"},\n",
       " {'website': 'NBC',\n",
       "  'url': 'https://www.nbcnews.com/health/coronavirus',\n",
       "  'headline': 'WHO chief warns the worst of the coronavirus is still ahead'},\n",
       " {'website': 'NBC',\n",
       "  'url': 'https://www.nbcnews.com/health/coronavirus',\n",
       "  'headline': \"Iran's Revolutionary Guard Corps says its handheld device can detect coronavirus, scientists scoff\"},\n",
       " {'website': 'NBC',\n",
       "  'url': 'https://www.nbcnews.com/health/coronavirus',\n",
       "  'headline': \"My coronavirus symptoms were 'mild.' Read my story before breaking quarantine.\"},\n",
       " {'website': 'NBC',\n",
       "  'url': 'https://www.nbcnews.com/health/coronavirus',\n",
       "  'headline': 'The only game in town? Try the world: Belarus soccer'},\n",
       " {'website': 'NBC',\n",
       "  'url': 'https://www.nbcnews.com/health/coronavirus',\n",
       "  'headline': 'Facebook removes some events calling for protests of stay-at-home orders'},\n",
       " {'website': 'NBC',\n",
       "  'url': 'https://www.nbcnews.com/health/coronavirus',\n",
       "  'headline': 'Peru has second highest coronavirus cases in Latin America'},\n",
       " {'website': 'NBC',\n",
       "  'url': 'https://www.nbcnews.com/health/coronavirus',\n",
       "  'headline': 'NYC Pride March canceled for first time in half-century'},\n",
       " {'website': 'NBC',\n",
       "  'url': 'https://www.nbcnews.com/health/coronavirus',\n",
       "  'headline': 'As Latinos lose jobs, remittances to their relatives in Latin America dry up'},\n",
       " {'website': 'NBC',\n",
       "  'url': 'https://www.nbcnews.com/health/coronavirus',\n",
       "  'headline': 'Health care workers stand against protesters opposing coronavirus lockdown in Colorado'},\n",
       " {'website': 'NBC',\n",
       "  'url': 'https://www.nbcnews.com/health/coronavirus',\n",
       "  'headline': 'Gyms are eager to reopen, but are they safe?'},\n",
       " {'website': 'NBC',\n",
       "  'url': 'https://www.nbcnews.com/health/coronavirus',\n",
       "  'headline': \"Broadway star Nick Cordero's wife on his coronavirus leg amputation: 'It was life or leg'\"},\n",
       " {'website': 'NBC',\n",
       "  'url': 'https://www.nbcnews.com/health/coronavirus',\n",
       "  'headline': 'How many people have had coronavirus with no symptoms?'},\n",
       " {'website': 'NBC',\n",
       "  'url': 'https://www.nbcnews.com/health/coronavirus',\n",
       "  'headline': 'Idaho lawmaker under fire for Nazi remark'},\n",
       " {'website': 'NBC',\n",
       "  'url': 'https://www.nbcnews.com/health/coronavirus',\n",
       "  'headline': 'China accused of discriminating against Africans as part of coronavirus fight'},\n",
       " {'website': 'NBC',\n",
       "  'url': 'https://www.nbcnews.com/health/coronavirus',\n",
       "  'headline': \"Amid protests, Trump says some governors 'have gone too far' on lockdown measures\"},\n",
       " {'website': 'NBC',\n",
       "  'url': 'https://www.nbcnews.com/health/coronavirus',\n",
       "  'headline': 'Reality bites: Candidates sidelined by coronavirus try transforming into small-screen stars'},\n",
       " {'website': 'NBC',\n",
       "  'url': 'https://www.nbcnews.com/health/coronavirus',\n",
       "  'headline': 'Navajo Nation braces for a surge of coronavirus cases'},\n",
       " {'website': 'NBC',\n",
       "  'url': 'https://www.nbcnews.com/health/coronavirus',\n",
       "  'headline': \"My grandmother survived the Holocaust. She's teaching me how to find hope today.\"},\n",
       " {'website': 'NBC',\n",
       "  'url': 'https://www.nbcnews.com/health/coronavirus',\n",
       "  'headline': 'Shake Shack returning $10 million government loan meant for small businesses'},\n",
       " {'website': 'NBC',\n",
       "  'url': 'https://www.nbcnews.com/health/coronavirus',\n",
       "  'headline': 'Federal officials announce new coronavirus rules for nursing homes to boost transparency'},\n",
       " {'website': 'NBC',\n",
       "  'url': 'https://www.nbcnews.com/health/coronavirus',\n",
       "  'headline': 'Ex-mayor in California who quit after criticizing Trump dies in plane crash'},\n",
       " {'website': 'NBC',\n",
       "  'url': 'https://www.nbcnews.com/health/coronavirus',\n",
       "  'headline': \"'Dangerous': Governors decry Trump support of coronavirus protesters\"},\n",
       " {'website': 'NBC',\n",
       "  'url': 'https://www.nbcnews.com/health/coronavirus',\n",
       "  'headline': \"'Delusional,' 'absolutely false': Governors cry foul on Trump testing claims\"},\n",
       " {'website': 'NBC',\n",
       "  'url': 'https://www.nbcnews.com/health/coronavirus',\n",
       "  'headline': \"'It's like New Year's every day' as lockdowns drive increase in booze and pot sales\"},\n",
       " {'website': 'NBC',\n",
       "  'url': 'https://www.nbcnews.com/health/coronavirus',\n",
       "  'headline': 'Europe reaches grim milestone, surpasses 100,000 coronavirus deaths'},\n",
       " {'website': 'NBC',\n",
       "  'url': 'https://www.nbcnews.com/health/coronavirus',\n",
       "  'headline': \"Pence says reopening economy critical to ensure 'cure isn't worse than the disease'\"},\n",
       " {'website': 'NBC',\n",
       "  'url': 'https://www.nbcnews.com/health/coronavirus',\n",
       "  'headline': 'In new poll, 60 percent support keeping stay-at-home restrictions to fight coronavirus'},\n",
       " {'website': 'NBC',\n",
       "  'url': 'https://www.nbcnews.com/health/coronavirus',\n",
       "  'headline': \"Europe's coronavirus death toll tops 100,000 as protests erupt in some U.S. states\"},\n",
       " {'website': 'NBC',\n",
       "  'url': 'https://www.nbcnews.com/health/coronavirus',\n",
       "  'headline': 'Silent partner in coronavirus contract sold protective gear to U.S. for double the cost'},\n",
       " {'website': 'NBC',\n",
       "  'url': 'https://www.nbcnews.com/health/coronavirus',\n",
       "  'headline': \"'It's nonstop': Inside the life of a New York City gravedigger during the coronavirus\"},\n",
       " {'website': 'NBC',\n",
       "  'url': 'https://www.nbcnews.com/health/coronavirus',\n",
       "  'headline': 'As nursing home deaths skyrocket, House Dems urge admin to track cases'},\n",
       " {'website': 'NBC',\n",
       "  'url': 'https://www.nbcnews.com/health/coronavirus',\n",
       "  'headline': 'Affairs, hoarders and hope: Read anonymous confessions in the time of the coronavirus'},\n",
       " {'website': 'NBC',\n",
       "  'url': 'https://www.nbcnews.com/health/coronavirus',\n",
       "  'headline': 'Behind closed doors, Trump’s coronavirus task force boosts industry and sows confusion'},\n",
       " {'website': 'NBC',\n",
       "  'url': 'https://www.nbcnews.com/health/coronavirus',\n",
       "  'headline': \"NBC News special report: 'Coronavirus Pandemic'\"},\n",
       " {'website': 'NBC',\n",
       "  'url': 'https://www.nbcnews.com/health/coronavirus',\n",
       "  'headline': 'Coronavirus: What you need to know'},\n",
       " {'website': 'NBC',\n",
       "  'url': 'https://www.nbcnews.com/health/coronavirus',\n",
       "  'headline': \"'Into The Red Zone': An NBC News NOW documentary \"},\n",
       " {'website': 'NBC',\n",
       "  'url': 'https://www.nbcnews.com/health/coronavirus',\n",
       "  'headline': 'Portrait of a neighborhood under lockdown'},\n",
       " {'website': 'NBC',\n",
       "  'url': 'https://www.nbcnews.com/health/coronavirus',\n",
       "  'headline': 'Photos capture empty cities across the globe'},\n",
       " {'website': 'NBC',\n",
       "  'url': 'https://www.nbcnews.com/health/coronavirus',\n",
       "  'headline': 'New Yorkers are giving nightly ovations to health workers. These are their portraits'},\n",
       " {'website': 'NBC',\n",
       "  'url': 'https://www.nbcnews.com/health/coronavirus',\n",
       "  'headline': \"'The call has been answered': Animal shelters across the U.S. are emptying amid coronavirus pandemic\"},\n",
       " {'website': 'NBC',\n",
       "  'url': 'https://www.nbcnews.com/health/coronavirus',\n",
       "  'headline': \"How do you know voting by mail works? The U.S. military's done it since the Civil War.\"},\n",
       " {'website': 'NBC',\n",
       "  'url': 'https://www.nbcnews.com/health/coronavirus',\n",
       "  'headline': \"'We don't have internet': In rural areas, teachers get creative to reach students\"},\n",
       " {'website': 'NBC',\n",
       "  'url': 'https://www.nbcnews.com/health/coronavirus',\n",
       "  'headline': 'An infectious diseases expert describes his experience with COVID-19'},\n",
       " {'website': 'NBC',\n",
       "  'url': 'https://www.nbcnews.com/health/coronavirus',\n",
       "  'headline': \"It's time to retire celebrity wellness 'docs' like Dr. Oz — coronavirus shows why\"},\n",
       " {'website': 'NBC',\n",
       "  'url': 'https://www.nbcnews.com/health/coronavirus',\n",
       "  'headline': \"She's a doctor on the front lines of the coronavirus. At home, she has no running water.\"},\n",
       " {'website': 'NBC',\n",
       "  'url': 'https://www.nbcnews.com/health/coronavirus',\n",
       "  'headline': \"British costume designers make scrubs for coronavirus 'superheroes'\"},\n",
       " {'website': 'NBC',\n",
       "  'url': 'https://www.nbcnews.com/health/coronavirus',\n",
       "  'headline': 'Europe crosses 100,000 deaths as some U.S. cities protest to end lockdowns'},\n",
       " {'website': 'NBC',\n",
       "  'url': 'https://www.nbcnews.com/health/coronavirus',\n",
       "  'headline': 'Federal judge blocks Kansas limits on religious gatherings'},\n",
       " {'website': 'NBC',\n",
       "  'url': 'https://www.nbcnews.com/health/coronavirus',\n",
       "  'headline': \"Bill Cosby wouldn't survive coronavirus behind bars, spokesman says\"},\n",
       " {'website': 'NBC',\n",
       "  'url': 'https://www.nbcnews.com/health/coronavirus',\n",
       "  'headline': 'N.Y., N.J., Connecticut reopen marinas amid calls to kick-start economies'},\n",
       " {'website': 'CNBC',\n",
       "  'url': 'https://www.cnbc.com/id/10000108/device/rss/rss/html',\n",
       "  'headline': 'New York Gov. Cuomo says he will discuss coronavirus testing with Trump at White House meeting'},\n",
       " {'website': 'CNBC',\n",
       "  'url': 'https://www.cnbc.com/id/10000108/device/rss/rss/html',\n",
       "  'headline': 'Coronavirus cases are likely 10 to 20 times higher in US than reported, former FDA chief Gottlieb says'},\n",
       " {'website': 'CNBC',\n",
       "  'url': 'https://www.cnbc.com/id/10000108/device/rss/rss/html',\n",
       "  'headline': \"Vodafone exec slams 5G-coronavirus conspiracy theories: 'The worst type of fake news'\"},\n",
       " {'website': 'CNBC',\n",
       "  'url': 'https://www.cnbc.com/id/10000108/device/rss/rss/html',\n",
       "  'headline': \"New York City builds coronavirus strategic medical reserve: 'We can't depend on the federal government,' mayor says\"},\n",
       " {'website': 'CNBC',\n",
       "  'url': 'https://www.cnbc.com/id/10000108/device/rss/rss/html',\n",
       "  'headline': \"Cramer says, 'We've got to try something' as Georgia, other states begin to reopen\"},\n",
       " {'website': 'CNBC',\n",
       "  'url': 'https://www.cnbc.com/id/10000108/device/rss/rss/html',\n",
       "  'headline': 'Watch live: New York Gov. Andrew Cuomo holds a press conference on the coronavirus outbreak'},\n",
       " {'website': 'CNBC',\n",
       "  'url': 'https://www.cnbc.com/id/10000108/device/rss/rss/html',\n",
       "  'headline': 'Georgia got lifting coronavirus restrictions backward, Connecticut Gov. Ned Lamont says'},\n",
       " {'website': 'CNBC',\n",
       "  'url': 'https://www.cnbc.com/id/10000108/device/rss/rss/html',\n",
       "  'headline': 'Watch live: New York City Mayor Bill de Blasio holds a press conference on the coronavirus outbreak'},\n",
       " {'website': 'CNBC',\n",
       "  'url': 'https://www.cnbc.com/id/10000108/device/rss/rss/html',\n",
       "  'headline': \"Hackers targeted Britain's virus furlough scheme just hours after it went live\"},\n",
       " {'website': 'CNBC',\n",
       "  'url': 'https://www.cnbc.com/id/10000108/device/rss/rss/html',\n",
       "  'headline': \"Coronavirus live updates: NYC 'can't depend on the federal government,' auto sales seen plummeting\"},\n",
       " {'website': 'CNBC',\n",
       "  'url': 'https://www.cnbc.com/id/10000108/device/rss/rss/html',\n",
       "  'headline': \"Coronavirus 'likely' to have come from animals — not a lab, WHO says\"},\n",
       " {'website': 'CNBC',\n",
       "  'url': 'https://www.cnbc.com/id/10000108/device/rss/rss/html',\n",
       "  'headline': '5 things to know before the stock market opens Tuesday'},\n",
       " {'website': 'CNBC',\n",
       "  'url': 'https://www.cnbc.com/id/10000108/device/rss/rss/html',\n",
       "  'headline': 'Two-thirds of voters back vote-by-mail in November 2020'},\n",
       " {'website': 'CNBC',\n",
       "  'url': 'https://www.cnbc.com/id/10000108/device/rss/rss/html',\n",
       "  'headline': 'Coca-Cola says demand has been weakened by coronavirus pandemic, volume off 25% this month'},\n",
       " {'website': 'CNBC',\n",
       "  'url': 'https://www.cnbc.com/id/10000108/device/rss/rss/html',\n",
       "  'headline': \"Singapore extends 'circuit breaker' partial lockdown measures until June 1\"},\n",
       " {'website': 'CNBC',\n",
       "  'url': 'https://www.cnbc.com/id/10000108/device/rss/rss/html',\n",
       "  'headline': \"Huawei's revenue growth slows sharply as US blacklisting and coronavirus outbreak bite\"},\n",
       " {'website': 'CNBC',\n",
       "  'url': 'https://www.cnbc.com/id/10000108/device/rss/rss/html',\n",
       "  'headline': \"Emerging markets may get 'left behind' in the coronavirus crisis, says Eurasia Group\"},\n",
       " {'website': 'CNBC',\n",
       "  'url': 'https://www.cnbc.com/id/10000108/device/rss/rss/html',\n",
       "  'headline': \"What's the best way to lift a coronavirus lockdown? Germany could have the answers\"},\n",
       " {'website': 'CNBC',\n",
       "  'url': 'https://www.cnbc.com/id/10000108/device/rss/rss/html',\n",
       "  'headline': \"Coronavirus: New plan would test 30 million per week and cost up to $100 billion, but 'we've got to do it'\"},\n",
       " {'website': 'CNBC',\n",
       "  'url': 'https://www.cnbc.com/id/10000108/device/rss/rss/html',\n",
       "  'headline': \"Spain's daily death rate from coronavirus rises slightly; Singapore extends 'circuit breaker' measures until June 1\"},\n",
       " {'website': 'CNBC',\n",
       "  'url': 'https://www.cnbc.com/id/10000108/device/rss/rss/html',\n",
       "  'headline': \"'You may have been exposed to the virus': What to expect when a contact tracer calls you\"},\n",
       " {'website': 'CNBC',\n",
       "  'url': 'https://www.cnbc.com/id/10000108/device/rss/rss/html',\n",
       "  'headline': 'The plunge in oil prices is the last thing Boeing and Airbus need right now'},\n",
       " {'website': 'CNBC',\n",
       "  'url': 'https://www.cnbc.com/id/10000108/device/rss/rss/html',\n",
       "  'headline': 'Watch live: Coronavirus task force holds briefing after lawmakers fail to pass more funding'},\n",
       " {'website': 'CNBC',\n",
       "  'url': 'https://www.cnbc.com/id/10000108/device/rss/rss/html',\n",
       "  'headline': 'Coronavirus antibody testing shows LA County outbreak is up to 55 times bigger than reported cases'},\n",
       " {'website': 'CNBC',\n",
       "  'url': 'https://www.cnbc.com/id/10000108/device/rss/rss/html',\n",
       "  'headline': \"New York nurses union on frontline of coronavirus outbreak sues state and two hospitals over 'war zone' conditions\"},\n",
       " {'website': 'CNBC',\n",
       "  'url': 'https://www.cnbc.com/id/10000108/device/rss/rss/html',\n",
       "  'headline': 'Coronavirus: Senator asks Attorney General William Barr to deny early prison release for Bernie Madoff, Allen Stanford'},\n",
       " {'website': 'CNBC',\n",
       "  'url': 'https://www.cnbc.com/id/10000108/device/rss/rss/html',\n",
       "  'headline': 'Fear of coronavirus drives poison center calls up 20% as Americans go overboard on cleaning products, the CDC says'},\n",
       " {'website': 'CNBC',\n",
       "  'url': 'https://www.cnbc.com/id/10000108/device/rss/rss/html',\n",
       "  'headline': 'New project will test entire population of Bolinas for Covid-19'},\n",
       " {'website': 'CNBC',\n",
       "  'url': 'https://www.cnbc.com/id/10000108/device/rss/rss/html',\n",
       "  'headline': 'Watch live: New Jersey Gov. Phil Murphy holds a press conference on the coronavirus outbreak'},\n",
       " {'website': 'CNBC',\n",
       "  'url': 'https://www.cnbc.com/id/10000108/device/rss/rss/html',\n",
       "  'headline': 'Google unveils tech to make it easier for doctors and patients to share health info'}]"
      ]
     },
     "execution_count": 58,
     "metadata": {},
     "output_type": "execute_result"
    }
   ],
   "source": [
    "news_dict"
   ]
  },
  {
   "cell_type": "code",
   "execution_count": 59,
   "metadata": {},
   "outputs": [],
   "source": [
    "import pandas as pd"
   ]
  },
  {
   "cell_type": "code",
   "execution_count": 60,
   "metadata": {},
   "outputs": [],
   "source": [
    "news_df = pd.DataFrame(news_dict)"
   ]
  },
  {
   "cell_type": "code",
   "execution_count": 61,
   "metadata": {},
   "outputs": [
    {
     "name": "stdout",
     "output_type": "stream",
     "text": [
      "website     112\n",
      "url         112\n",
      "headline    112\n",
      "dtype: int64\n"
     ]
    }
   ],
   "source": [
    "pd.set_option('max_colwidth', 800)\n",
    "print(news_df.count())\n",
    "#news_df.head(20)"
   ]
  },
  {
   "cell_type": "code",
   "execution_count": 62,
   "metadata": {},
   "outputs": [
    {
     "name": "stdout",
     "output_type": "stream",
     "text": [
      "['CNN' 'NBC' 'CNBC']\n",
      "website     object\n",
      "url         object\n",
      "headline    object\n",
      "dtype: object\n"
     ]
    }
   ],
   "source": [
    "news_df[\"website\"] = news_df[\"website\"].astype(str)\n",
    "news_df[\"url\"] = news_df[\"url\"].astype(str)\n",
    "news_df[\"headline\"] = news_df[\"headline\"].astype(str)\n",
    "print(news_df.website.unique())\n",
    "print(news_df.dtypes)\n",
    "\n",
    "noticia_CNN = news_df['url'][1]\n",
    "noticia_NBC = 'https://www.nbcnews.com/health/coronavirus'\n",
    "noticia_CNBC = 'https://www.cnbc.com/coronavirus/'"
   ]
  },
  {
   "cell_type": "code",
   "execution_count": 63,
   "metadata": {},
   "outputs": [
    {
     "name": "stdout",
     "output_type": "stream",
     "text": [
      "https://edition.cnn.com/world/live-news/coronavirus-pandemic-04-21-20-intl/index.html\n",
      "https://www.nbcnews.com/health/coronavirus\n",
      "https://www.cnbc.com/coronavirus/\n"
     ]
    }
   ],
   "source": [
    "print(noticia_CNN)\n",
    "print(noticia_NBC)\n",
    "print(noticia_CNBC)"
   ]
  },
  {
   "cell_type": "code",
   "execution_count": 64,
   "metadata": {},
   "outputs": [],
   "source": [
    "df_headlines = news_df.groupby('website').head(4).reset_index(drop=True)\n",
    "\n",
    "manchetesPrint = str(\"Principais manchetes do dia: \\n\\n\" + \"CNN - \" + noticia_CNN\n",
    "      + \"\\n\"\n",
    "      + \"1- \" + df_headlines['headline'][1] + \"     :\" + df_headlines['website'][1]\n",
    "      + \"\\n\"\n",
    "      + \"2- \" + df_headlines['headline'][2] + \"     :\" + df_headlines['website'][2]\n",
    "      + \"\\n\"\n",
    "      + \"3- \" + df_headlines['headline'][3] + \"     :\" + df_headlines['website'][3]\n",
    "      + \"\\n\\n\"\n",
    "      + \"NBC - \" + noticia_NBC\n",
    "      + \"\\n\"\n",
    "      + \"1- \" + df_headlines['headline'][4] + \"     :\" + df_headlines['website'][4]\n",
    "      + \"\\n\"\n",
    "      + \"2- \" + df_headlines['headline'][6] + \"     :\" + df_headlines['website'][6]\n",
    "      + \"\\n\"\n",
    "      + \"3- \" + df_headlines['headline'][7] + \"     :\" + df_headlines['website'][7]\n",
    "      + \"\\n\\n\"\n",
    "      + \"CNBC - \" + noticia_CNBC\n",
    "      + \"\\n\"\n",
    "      + \"1- \" + df_headlines['headline'][9] + \"     :\" + df_headlines['website'][8]\n",
    "      + \"\\n\"\n",
    "      + \"2- \" + df_headlines['headline'][10] + \"     :\" + df_headlines['website'][9]\n",
    "      + \"\\n\"\n",
    "      + \"3- \" + df_headlines['headline'][11] + \"     :\" + df_headlines['website'][10]\n",
    "     )"
   ]
  },
  {
   "cell_type": "code",
   "execution_count": 65,
   "metadata": {},
   "outputs": [
    {
     "name": "stdout",
     "output_type": "stream",
     "text": [
      "Principais manchetes do dia: \n",
      "\n",
      "CNN - https://edition.cnn.com/world/live-news/coronavirus-pandemic-04-21-20-intl/index.html\n",
      "1- US and UK leaders discuss cooperation in combating coronavirus     :CNN\n",
      "2- Iran: \"We have not contained the pandemic\"     :CNN\n",
      "3- Spanish football team will sell stadium naming rights to fund Covid-19 research     :CNN\n",
      "\n",
      "NBC - https://www.nbcnews.com/health/coronavirus\n",
      "1- Trump says he is suspending immigration to U.S. over coronavirus     :NBC\n",
      "2- Cyndi Lauper, Troye Sivan, Michelle Visage to appear at Stonewall benefit concert     :NBC\n",
      "3- Amazon warehouse workers plan nationwide protest to demand coronavirus protections     :NBC\n",
      "\n",
      "CNBC - https://www.cnbc.com/coronavirus/\n",
      "1- Coronavirus cases are likely 10 to 20 times higher in US than reported, former FDA chief Gottlieb says     :CNBC\n",
      "2- Vodafone exec slams 5G-coronavirus conspiracy theories: 'The worst type of fake news'     :CNBC\n",
      "3- New York City builds coronavirus strategic medical reserve: 'We can't depend on the federal government,' mayor says     :CNBC\n"
     ]
    }
   ],
   "source": [
    "print(manchetesPrint)"
   ]
  }
 ],
 "metadata": {
  "kernelspec": {
   "display_name": "Python 3",
   "language": "python",
   "name": "python3"
  },
  "language_info": {
   "codemirror_mode": {
    "name": "ipython",
    "version": 3
   },
   "file_extension": ".py",
   "mimetype": "text/x-python",
   "name": "python",
   "nbconvert_exporter": "python",
   "pygments_lexer": "ipython3",
   "version": "3.7.4"
  }
 },
 "nbformat": 4,
 "nbformat_minor": 4
}
